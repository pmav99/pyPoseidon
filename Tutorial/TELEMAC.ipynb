{
 "cells": [
  {
   "cell_type": "markdown",
   "id": "2e3e73eb",
   "metadata": {
    "tags": []
   },
   "source": [
    "# The Model module"
   ]
  },
  {
   "cell_type": "markdown",
   "id": "b55dcdc7",
   "metadata": {},
   "source": [
    "The top module handles the main setup of the instance. \n",
    "\n",
    "\n",
    "- Requires:\n",
    "\n",
    "    - The data folder. See [README](README.md) in this folder."
   ]
  },
  {
   "cell_type": "code",
   "execution_count": null,
   "id": "c7dc5c43",
   "metadata": {},
   "outputs": [],
   "source": [
    "#to use the full width of the browser window\n",
    "from IPython.display import display, HTML\n",
    "display(HTML(\"<style>.container { width:100% !important; }</style>\"))"
   ]
  },
  {
   "cell_type": "code",
   "execution_count": null,
   "id": "aca5a378",
   "metadata": {},
   "outputs": [],
   "source": [
    "# Not neccessarily needed. Just to check version. Must be >= 0.6\n",
    "import pyposeidon\n",
    "pyposeidon.__version__"
   ]
  },
  {
   "cell_type": "code",
   "execution_count": null,
   "id": "cac5ab42",
   "metadata": {},
   "outputs": [],
   "source": [
    "import pyposeidon.model as pm"
   ]
  },
  {
   "cell_type": "markdown",
   "id": "66071b72",
   "metadata": {},
   "source": [
    "### Graphics"
   ]
  },
  {
   "cell_type": "code",
   "execution_count": null,
   "id": "356b1f61",
   "metadata": {},
   "outputs": [],
   "source": [
    "import pyposeidon.utils.pplot # initialize matplolib accessor"
   ]
  },
  {
   "cell_type": "code",
   "execution_count": null,
   "id": "dc0b09e2",
   "metadata": {},
   "outputs": [],
   "source": [
    "#optional\n",
    "#pyposeidon.utils.pplot.__init__(dark_background=True) # set plt style for pplot graphics below"
   ]
  },
  {
   "cell_type": "code",
   "execution_count": null,
   "id": "f2817124",
   "metadata": {},
   "outputs": [],
   "source": [
    "import pyposeidon.utils.hplot # initialize pyviz accessor"
   ]
  },
  {
   "cell_type": "markdown",
   "id": "6a6d2620",
   "metadata": {},
   "source": [
    "- In order to have within the Notebook the executable binaries installed in the conda env of the Kernel we add the corresponding path to the env PATH. This is not needed when we are running from python."
   ]
  },
  {
   "cell_type": "code",
   "execution_count": null,
   "id": "4c745b1b",
   "metadata": {},
   "outputs": [],
   "source": [
    "#Create a folder to save the output\n",
    "import os\n",
    "if not os.path.exists('test'):\n",
    "            os.makedirs('test')"
   ]
  },
  {
   "cell_type": "code",
   "execution_count": null,
   "id": "9fb41bc5",
   "metadata": {},
   "outputs": [],
   "source": [
    "import numpy\n",
    "cpath = numpy.__path__[0].split('/lib/')[0] # get the current kernel path\n",
    "\n",
    "os.environ['PATH'] += os.pathsep + cpath + '/bin' # add to PATH"
   ]
  },
  {
   "cell_type": "markdown",
   "id": "598b91bf",
   "metadata": {},
   "source": [
    "## Setup"
   ]
  },
  {
   "cell_type": "markdown",
   "id": "93bcdedd",
   "metadata": {},
   "source": [
    "The minimum information required is the geometry's extent. In the most simple case that is a lat/lon box that defines the area of interest. Without loss of generality we select below Iceland as a test case. Feel free to modify the coordinates. \n",
    "\n",
    "In addition, the coastlines need to be provided as internal boundaries. Without loss of generality, natural earth's 'intermediate' resolution (https://www.naturalearthdata.com/downloads/) is used here.\n",
    "\n",
    "The coastlines can be given as a shapefile or GeoDataFrame."
   ]
  },
  {
   "cell_type": "code",
   "execution_count": null,
   "id": "15b6d59b",
   "metadata": {},
   "outputs": [],
   "source": [
    "# use cartopy to get coastlines\n",
    "import cartopy.feature as cf\n",
    "\n",
    "cr='i'\n",
    "\n",
    "coast = cf.NaturalEarthFeature(\n",
    "    category='physical',\n",
    "    name='land',\n",
    "    scale='{}m'.format({'l':110, 'i':50, 'h':10}[cr]))"
   ]
  },
  {
   "cell_type": "code",
   "execution_count": null,
   "id": "5a2151f9",
   "metadata": {},
   "outputs": [],
   "source": [
    "import geopandas as gp\n",
    "ne_i = gp.GeoDataFrame(geometry = [x for x in coast.geometries()])"
   ]
  },
  {
   "cell_type": "code",
   "execution_count": null,
   "id": "ae446407",
   "metadata": {},
   "outputs": [],
   "source": [
    "# observations: get SEASET data\n",
    "import pandas as pd\n",
    "seaset = pd.read_csv(\"https://raw.githubusercontent.com/tomsail/seaset/main/Notebooks/catalog_full.csv\",\n",
    "                     index_col=0)\n",
    "seaset.to_csv(\"data/seaset_full.csv\")\n",
    "seaset.head()"
   ]
  },
  {
   "cell_type": "code",
   "execution_count": null,
   "id": "a0d18560",
   "metadata": {},
   "outputs": [],
   "source": [
    "#define in a dictionary the properties of the model..\n",
    "model={'solver_name':'telemac',\n",
    "     'geometry':{'lon_min' : -25,'lon_max' : -12.,'lat_min' : 56.,'lat_max' : 74.},\n",
    "     'coastlines':ne_i,  # coastlines\n",
    "#     'manning':.12, #uniform manning value\n",
    "#     'windrot':0.00001, #uniform windrot value\n",
    "#     'tag':'schism', # optional tag \n",
    "     'mesh_generator' : 'jigsaw', # set mesh generator  \n",
    "     'start_date':'2017-10-1 0:0:0',\n",
    "     'time_frame':'12H',\n",
    "     'meteo_source' : ['./data/erai.grib'], #path to meteo files\n",
    "     'dem_source' : './data/dem.nc', #path to dem file\n",
    "#     'ncores': 4 , # optional number of cores\n",
    "     'dt' : 50,\n",
    "     'rpath':'./test/telemac/', #location of calc folder\n",
    "#     'update':['all'], #set which component should be updated  (meteo,dem,model)\n",
    "    'monitor':True, # get time series for observation points\n",
    "    'obs' : \"data/seaset_full.csv\",\n",
    "    }"
   ]
  },
  {
   "cell_type": "markdown",
   "id": "dbe6859d",
   "metadata": {},
   "source": [
    "## Initialize"
   ]
  },
  {
   "cell_type": "code",
   "execution_count": null,
   "id": "a5579622",
   "metadata": {},
   "outputs": [],
   "source": [
    "#initialize a model\n",
    "model['mesh_generator'] = 'jigsaw'\n",
    "b = pm.set(**model)"
   ]
  },
  {
   "cell_type": "markdown",
   "id": "b798571e",
   "metadata": {},
   "source": [
    "## Step by Step process"
   ]
  },
  {
   "cell_type": "code",
   "execution_count": null,
   "id": "72e0ce36",
   "metadata": {},
   "outputs": [],
   "source": [
    "b.create()\n",
    "b.mesh.Dataset.pplot.mesh()"
   ]
  },
  {
   "cell_type": "markdown",
   "id": "934a4e51",
   "metadata": {},
   "source": [
    "TPXO tide have been implemented, but have not been tested in pyposeidon.\n",
    "\n",
    "We will show here a simple case of surge model, without tide forcing at the boundaries"
   ]
  },
  {
   "cell_type": "code",
   "execution_count": null,
   "id": "287fad5a",
   "metadata": {},
   "outputs": [],
   "source": [
    "b.mesh.Dataset.type[:] = 'closed' # here for a surge application, we will close all boundaries"
   ]
  },
  {
   "cell_type": "code",
   "execution_count": null,
   "id": "acdc35fb",
   "metadata": {},
   "outputs": [],
   "source": [
    "b.output()"
   ]
  },
  {
   "cell_type": "code",
   "execution_count": null,
   "id": "c40436e9",
   "metadata": {},
   "outputs": [],
   "source": [
    "b.save() # saves the json model file"
   ]
  },
  {
   "cell_type": "code",
   "execution_count": null,
   "id": "b088274b",
   "metadata": {},
   "outputs": [],
   "source": [
    "b.set_obs() # setup station points"
   ]
  },
  {
   "cell_type": "code",
   "execution_count": null,
   "id": "405739f1",
   "metadata": {},
   "outputs": [],
   "source": [
    "b.run() # execute"
   ]
  },
  {
   "cell_type": "markdown",
   "id": "4bb8672d",
   "metadata": {},
   "source": [
    "## ... or simply in one step\n"
   ]
  },
  {
   "cell_type": "code",
   "execution_count": null,
   "id": "a8957dd6",
   "metadata": {},
   "outputs": [],
   "source": [
    "#initialize a model\n",
    "b = pm.set(**model)\n",
    "b.execute()"
   ]
  },
  {
   "cell_type": "markdown",
   "id": "4fd6fac9",
   "metadata": {},
   "source": [
    "The various datasets incorporated in the model can be accessed independently as attributes, namely :"
   ]
  },
  {
   "cell_type": "markdown",
   "id": "7c966830",
   "metadata": {},
   "source": [
    "- Meteo"
   ]
  },
  {
   "cell_type": "code",
   "execution_count": null,
   "id": "3adcd3b0",
   "metadata": {},
   "outputs": [],
   "source": [
    "#plt.figure() # xarray uses existing ax if any. You might need to create a new figure to do it separately.\n",
    "b.meteo.Dataset.msl[2,:,:].plot()"
   ]
  },
  {
   "cell_type": "markdown",
   "id": "fda43cb1",
   "metadata": {},
   "source": [
    "- Mesh"
   ]
  },
  {
   "cell_type": "code",
   "execution_count": null,
   "id": "e0cb7609",
   "metadata": {},
   "outputs": [],
   "source": [
    "b.mesh.Dataset.hplot.mesh() "
   ]
  },
  {
   "cell_type": "markdown",
   "id": "4245edff",
   "metadata": {},
   "source": [
    "- Dem"
   ]
  },
  {
   "cell_type": "code",
   "execution_count": null,
   "id": "ce61dd43",
   "metadata": {},
   "outputs": [],
   "source": [
    "b.dem.Dataset.elevation.plot()"
   ]
  },
  {
   "cell_type": "markdown",
   "id": "6301c07c",
   "metadata": {},
   "source": [
    "- Coastlines"
   ]
  },
  {
   "cell_type": "code",
   "execution_count": null,
   "id": "e7f11425",
   "metadata": {},
   "outputs": [],
   "source": [
    "b.coastlines.plot()"
   ]
  },
  {
   "cell_type": "markdown",
   "id": "a5c6208f",
   "metadata": {},
   "source": [
    "- Boundaries"
   ]
  },
  {
   "cell_type": "code",
   "execution_count": null,
   "id": "7ffdcae7",
   "metadata": {},
   "outputs": [],
   "source": [
    "b.mesh.boundary.show()"
   ]
  },
  {
   "cell_type": "markdown",
   "id": "3e936652",
   "metadata": {},
   "source": [
    "## Output"
   ]
  },
  {
   "cell_type": "markdown",
   "id": "0642af80",
   "metadata": {},
   "source": [
    "The output of the simulations could be in separate files (due to MPI) or specific folders. pyposeidon can incorporate the resulting Datasets with "
   ]
  },
  {
   "cell_type": "code",
   "execution_count": null,
   "id": "edee32bb",
   "metadata": {},
   "outputs": [],
   "source": [
    "b.results(remove_zarr=False) # integrate output"
   ]
  },
  {
   "cell_type": "markdown",
   "id": "f614eb62",
   "metadata": {},
   "source": [
    "using [xarray-selafin](https://github.com/seareport/xarray-selafin/) directly on the selafin files: "
   ]
  },
  {
   "cell_type": "code",
   "execution_count": null,
   "id": "35a2c144",
   "metadata": {},
   "outputs": [],
   "source": [
    "import xarray as xr\n",
    "out = xr.open_dataset(b.rpath + '/results_2D.slf', engine = 'selafin', lazy_loading = False)\n",
    "out"
   ]
  },
  {
   "cell_type": "markdown",
   "id": "52dfbe98",
   "metadata": {},
   "source": [
    "Or using xarray on the generated results: "
   ]
  },
  {
   "cell_type": "code",
   "execution_count": null,
   "id": "5ed5d149",
   "metadata": {},
   "outputs": [],
   "source": [
    "! tar -xvf test/telemac/outputs/out_2D.zarr.tar"
   ]
  },
  {
   "cell_type": "code",
   "execution_count": null,
   "id": "10a1de6a",
   "metadata": {},
   "outputs": [],
   "source": [
    "out = xr.open_dataset('out_2D.zarr')\n",
    "out"
   ]
  },
  {
   "cell_type": "code",
   "execution_count": null,
   "id": "b4256c07",
   "metadata": {},
   "outputs": [],
   "source": [
    "out.pplot.mesh(x='longitude', y = 'latitude', e='face_nodes')"
   ]
  },
  {
   "cell_type": "code",
   "execution_count": null,
   "id": "88bd5215",
   "metadata": {},
   "outputs": [],
   "source": [
    "it = 2\n",
    "u, v = out.u.isel(time = it).values, out.v.isel(time = it).values\n",
    "out.pplot.quiver(x='longitude', y = 'latitude', it = 2, u=u, v=v, scale=.5, title='hvel', color='k')"
   ]
  },
  {
   "cell_type": "markdown",
   "id": "fc1eeecd",
   "metadata": {},
   "source": [
    "### with hvplot"
   ]
  },
  {
   "cell_type": "code",
   "execution_count": null,
   "id": "a0cf4968",
   "metadata": {},
   "outputs": [],
   "source": [
    "out.hplot.contourf(var='depth')#,tiles=True)"
   ]
  },
  {
   "cell_type": "code",
   "execution_count": null,
   "id": "3084498c",
   "metadata": {},
   "outputs": [],
   "source": [
    "out.hplot.mesh(width=800, height=400,tiles=True)"
   ]
  },
  {
   "cell_type": "markdown",
   "id": "dab51e7b",
   "metadata": {},
   "source": [
    "### Animate"
   ]
  },
  {
   "cell_type": "code",
   "execution_count": null,
   "id": "494c484d",
   "metadata": {},
   "outputs": [],
   "source": [
    "import numpy as np \n",
    "v = out.pplot.frames(x='longitude', \n",
    "                     y = 'latitude', \n",
    "                     e='face_nodes',\n",
    "                     var='elev',\n",
    "                     title='SSH', \n",
    "                     vmin = -.5, \n",
    "                     vmax =.5) # change to hplot for holoviews\n",
    "v"
   ]
  },
  {
   "cell_type": "code",
   "execution_count": null,
   "id": "37ad3906",
   "metadata": {},
   "outputs": [],
   "source": [
    "v.save('test/elev.mp4')"
   ]
  },
  {
   "cell_type": "code",
   "execution_count": null,
   "id": "b06c0fd4",
   "metadata": {},
   "outputs": [],
   "source": [
    "u, v = out.u.values, out.v.values\n",
    "out.pplot.qframes(x='longitude', \n",
    "                     y = 'latitude', \n",
    "                     e='face_nodes',\n",
    "                     u=u,v=v,title='Vel',scale=.5)#, color='w')"
   ]
  },
  {
   "cell_type": "markdown",
   "id": "9741c129",
   "metadata": {},
   "source": [
    "## Read Model"
   ]
  },
  {
   "cell_type": "markdown",
   "id": "dcb38bee",
   "metadata": {},
   "source": [
    "If a model is created by `pyposeidon` then there is a `json` file that describes the model. Such a file can be read into `pyposeidon` with "
   ]
  },
  {
   "cell_type": "code",
   "execution_count": null,
   "id": "c5c0555f",
   "metadata": {},
   "outputs": [],
   "source": [
    "a = pyposeidon.model.read('test/telemac/telemac2d_model.json')"
   ]
  },
  {
   "cell_type": "code",
   "execution_count": null,
   "id": "80e32da8",
   "metadata": {},
   "outputs": [],
   "source": [
    "a.execute()"
   ]
  },
  {
   "cell_type": "markdown",
   "id": "12ec7eeb",
   "metadata": {},
   "source": [
    "However, there might be a model created by other means. `pyposeidon` does its best to incorporate such model with"
   ]
  },
  {
   "cell_type": "markdown",
   "id": "aacd277e",
   "metadata": {},
   "source": [
    "TELEMAC Works up until here \n",
    "\n",
    "`read_folder()` class function is yet to be implemented"
   ]
  },
  {
   "cell_type": "code",
   "execution_count": null,
   "id": "39a6005e",
   "metadata": {},
   "outputs": [],
   "source": [
    "c = pm.set(solver_name='telemac', rfolder = './test/telemac/', load_geo=True, load_meteo=True)"
   ]
  },
  {
   "cell_type": "code",
   "execution_count": null,
   "id": "3f5254c4",
   "metadata": {},
   "outputs": [],
   "source": [
    "c.mesh.Dataset"
   ]
  },
  {
   "cell_type": "code",
   "execution_count": null,
   "id": "c2b4eaac",
   "metadata": {},
   "outputs": [],
   "source": [
    "c.meteo.Dataset"
   ]
  }
 ],
 "metadata": {
  "kernelspec": {
   "display_name": ".venv",
   "language": "python",
   "name": "python3"
  },
  "language_info": {
   "codemirror_mode": {
    "name": "ipython",
    "version": 3
   },
   "file_extension": ".py",
   "mimetype": "text/x-python",
   "name": "python",
   "nbconvert_exporter": "python",
   "pygments_lexer": "ipython3",
   "version": "3.10.13"
  }
 },
 "nbformat": 4,
 "nbformat_minor": 5
}
